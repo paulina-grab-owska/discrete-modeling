{
  "nbformat": 4,
  "nbformat_minor": 0,
  "metadata": {
    "colab": {
      "provenance": []
    },
    "kernelspec": {
      "name": "python3",
      "display_name": "Python 3"
    },
    "language_info": {
      "name": "python"
    }
  },
  "cells": [
    {
      "cell_type": "code",
      "source": [
        "import numpy as np\n",
        "import matplotlib.pyplot as plt\n",
        "from PIL import Image"
      ],
      "metadata": {
        "id": "s7fmnowm35f0"
      },
      "execution_count": null,
      "outputs": []
    },
    {
      "cell_type": "code",
      "source": [
        "GRID_SIZE = 200\n",
        "STEPS = 30"
      ],
      "metadata": {
        "id": "ex3XDHDk37vE"
      },
      "execution_count": null,
      "outputs": []
    },
    {
      "cell_type": "code",
      "source": [
        "# stan początkowy\n",
        "def init_grid(pattern=\"glider\"):\n",
        "    grid = np.zeros((GRID_SIZE, GRID_SIZE), dtype=int)\n",
        "\n",
        "    if pattern == \"glider\":\n",
        "        # glider\n",
        "        grid[1, 2] = grid[2, 3] = grid[2, 2] = grid[3, 3] = grid[3, 1] = 1\n",
        "    elif pattern == \"oscillator\":\n",
        "        # oscylator\n",
        "        grid[GRID_SIZE//2, GRID_SIZE//2-1:GRID_SIZE//2+2] = 1\n",
        "    elif pattern == \"random\":\n",
        "        # random\n",
        "        grid = np.random.choice([0, 1], (GRID_SIZE, GRID_SIZE), p=[0.8, 0.2])\n",
        "    elif pattern == \"still\":\n",
        "        # neizmienny blok\n",
        "        grid[1, 2] = grid[2, 3] = grid[2, 1] = grid[3, 3] = grid[3, 1] = grid[4, 2]= 1\n",
        "    elif pattern == \"żabka\":\n",
        "        grid[GRID_SIZE//2-1, GRID_SIZE//2-1:GRID_SIZE//2+2] = 1\n",
        "        grid[GRID_SIZE//2, GRID_SIZE//2-2:GRID_SIZE//2+1] = 1\n",
        "        grid[GRID_SIZE//2+1, GRID_SIZE//2-1:GRID_SIZE//2+2] = 1\n",
        "    elif pattern == \"blinker\":\n",
        "        grid[GRID_SIZE//2, GRID_SIZE//2-4:GRID_SIZE//2+5] = 1\n",
        "        grid[GRID_SIZE//2-1, GRID_SIZE//2-5] = 1\n",
        "        grid[GRID_SIZE//2-1, GRID_SIZE//2+4] = 1\n",
        "        grid[GRID_SIZE//2+1, GRID_SIZE//2-5] = 1\n",
        "        grid[GRID_SIZE//2+1, GRID_SIZE//2+4] = 1\n",
        "    elif pattern == \"chaos\":\n",
        "        grid[GRID_SIZE//2, GRID_SIZE//2] = 1\n",
        "        grid[GRID_SIZE//2+1, GRID_SIZE//2] = 1\n",
        "        grid[GRID_SIZE//2+2, GRID_SIZE//2] = 1\n",
        "        grid[GRID_SIZE//2+1, GRID_SIZE//2+1] = 1\n",
        "        grid[GRID_SIZE//2+2, GRID_SIZE//2-1] = 1\n",
        "    elif pattern == \"glider_gun\" :\n",
        "        grid[GRID_SIZE//2-3, GRID_SIZE//2-4] = 1\n",
        "        grid[GRID_SIZE//2-3, GRID_SIZE//2-3] = 1\n",
        "        grid[GRID_SIZE//2-2, GRID_SIZE//2-4] = 1\n",
        "        grid[GRID_SIZE//2-2, GRID_SIZE//2-3] = 1\n",
        "        grid[GRID_SIZE//2-1, GRID_SIZE//2-6] = 1\n",
        "        grid[GRID_SIZE//2-1, GRID_SIZE//2-5] = 1\n",
        "        grid[GRID_SIZE//2-1, GRID_SIZE//2-4] = 1\n",
        "        grid[GRID_SIZE//2-1, GRID_SIZE//2+1] = 1\n",
        "        grid[GRID_SIZE//2, GRID_SIZE//2-6] = 1\n",
        "        grid[GRID_SIZE//2, GRID_SIZE//2-6] = 1\n",
        "        grid[GRID_SIZE//2, GRID_SIZE//2-6] = 1\n",
        "        grid[GRID_SIZE//2+1, GRID_SIZE//2-5] = 1\n",
        "        grid[GRID_SIZE//2+1, GRID_SIZE//2-5] = 1\n",
        "        grid[GRID_SIZE//2+1, GRID_SIZE//2-4] = 1\n",
        "        grid[GRID_SIZE//2+1, GRID_SIZE//2+1] = 1\n",
        "        grid[GRID_SIZE//2+2, GRID_SIZE//2-5] = 1\n",
        "        grid[GRID_SIZE//2+2, GRID_SIZE//2-4] = 1\n",
        "        grid[GRID_SIZE//2+2, GRID_SIZE//2-3] = 1\n",
        "        grid[GRID_SIZE//2+3, GRID_SIZE//2-4] = 1\n",
        "    return grid"
      ],
      "metadata": {
        "id": "jPnkp_MA38Z3"
      },
      "execution_count": null,
      "outputs": []
    },
    {
      "cell_type": "code",
      "source": [
        "# warunki brzegowe\n",
        "def count_neighbors(grid, x, y, boundary=\"periodic\"):\n",
        "    if boundary == \"periodic\":\n",
        "        return (\n",
        "            grid[(x - 1) % GRID_SIZE, (y - 1) % GRID_SIZE]\n",
        "            + grid[(x - 1) % GRID_SIZE, y % GRID_SIZE]\n",
        "            + grid[(x - 1) % GRID_SIZE, (y + 1) % GRID_SIZE]\n",
        "            + grid[x % GRID_SIZE, (y - 1) % GRID_SIZE]\n",
        "            + grid[x % GRID_SIZE, (y + 1) % GRID_SIZE]\n",
        "            + grid[(x + 1) % GRID_SIZE, (y - 1) % GRID_SIZE]\n",
        "            + grid[(x + 1) % GRID_SIZE, y % GRID_SIZE]\n",
        "            + grid[(x + 1) % GRID_SIZE, (y + 1) % GRID_SIZE]\n",
        "        )\n",
        "    elif boundary == \"reflective\":\n",
        "        def get(i, j):\n",
        "            if i < 0: i = 0\n",
        "            if i >= GRID_SIZE: i = GRID_SIZE - 1\n",
        "            if j < 0: j = 0\n",
        "            if j >= GRID_SIZE: j = GRID_SIZE - 1\n",
        "            return grid[i, j]\n",
        "        return (\n",
        "            get(x - 1, y - 1)\n",
        "            + get(x - 1, y)\n",
        "            + get(x - 1, y + 1)\n",
        "            + get(x, y - 1)\n",
        "            + get(x, y + 1)\n",
        "            + get(x + 1, y - 1)\n",
        "            + get(x + 1, y)\n",
        "            + get(x + 1, y + 1)\n",
        "        )"
      ],
      "metadata": {
        "id": "OFZSTpTN3_tG"
      },
      "execution_count": null,
      "outputs": []
    },
    {
      "cell_type": "code",
      "source": [
        "# reguły\n",
        "def apply_rules(grid, boundary=\"periodic\"):\n",
        "    new_grid = np.zeros((GRID_SIZE, GRID_SIZE), dtype=int)\n",
        "    for x in range(GRID_SIZE):\n",
        "        for y in range(GRID_SIZE):\n",
        "            neighbors = count_neighbors(grid, x, y, boundary)\n",
        "            if grid[x, y] == 1:\n",
        "                if neighbors < 2 or neighbors > 3:\n",
        "                    new_grid[x, y] = 0  # dead\n",
        "                else:\n",
        "                    new_grid[x, y] = 1  # alive\n",
        "            else:\n",
        "                if neighbors == 3:\n",
        "                    new_grid[x, y] = 1  # born\n",
        "    return new_grid"
      ],
      "metadata": {
        "id": "BQVT7J-N4Arn"
      },
      "execution_count": null,
      "outputs": []
    },
    {
      "cell_type": "code",
      "source": [
        "# tworzenie gifa\n",
        "def animate(pattern=\"glider\", boundary=\"periodic\"):\n",
        "    grid = init_grid(pattern)\n",
        "    images = []\n",
        "\n",
        "    for step in range(STEPS):\n",
        "        fig, ax = plt.subplots(figsize=(6, 6))\n",
        "        ax.imshow(grid, cmap=\"binary\")\n",
        "        plt.axis('off')\n",
        "\n",
        "        # tymczasową klatkę jako obraz PNG\n",
        "        filename = f\"frame_{step}.png\"\n",
        "        plt.savefig(filename)\n",
        "        plt.close(fig)\n",
        "\n",
        "        # obraz jako klatkę do GIF-a\n",
        "        images.append(Image.open(filename))\n",
        "\n",
        "        # aktualizuj stan gry\n",
        "        grid = apply_rules(grid, boundary)\n",
        "\n",
        "    # gif:\n",
        "    images[0].save(f\"game_of_life_{pattern}_{boundary}.gif\", save_all=True, append_images=images[1:], duration=200, loop=0)"
      ],
      "metadata": {
        "id": "ZT5up2aS4xkA"
      },
      "execution_count": null,
      "outputs": []
    },
    {
      "cell_type": "code",
      "source": [
        "\n",
        "animate(pattern=\"glider\", boundary=\"periodic\")\n",
        "animate(pattern=\"glider\", boundary=\"reflective\")\n",
        "'''\n",
        "animate(pattern=\"oscillator\", boundary=\"periodic\")\n",
        "#animate(pattern=\"oscillator\", boundary=\"reflective\")\n",
        "'''\n",
        "animate(pattern=\"random\", boundary=\"periodic\")\n",
        "#animate(pattern=\"random\", boundary=\"reflective\")\n",
        "'''\n",
        "animate(pattern=\"still\", boundary=\"periodic\")\n",
        "#animate(pattern=\"still\", boundary=\"reflective\")\n",
        "'''"
      ],
      "metadata": {
        "colab": {
          "base_uri": "https://localhost:8080/",
          "height": 36
        },
        "id": "gc3U-G-W2odG",
        "outputId": "1cd63adc-b30d-4233-9840-f2058b8c289d"
      },
      "execution_count": null,
      "outputs": [
        {
          "output_type": "execute_result",
          "data": {
            "text/plain": [
              "'\\nanimate(pattern=\"still\", boundary=\"periodic\")\\n#animate(pattern=\"still\", boundary=\"reflective\")\\n'"
            ],
            "application/vnd.google.colaboratory.intrinsic+json": {
              "type": "string"
            }
          },
          "metadata": {},
          "execution_count": 14
        }
      ]
    },
    {
      "cell_type": "code",
      "source": [
        "animate(pattern=\"żabka\", boundary=\"periodic\")\n",
        "#animate(pattern=\"żabka\", boundary=\"reflective\")"
      ],
      "metadata": {
        "id": "Ydpyy1iu-myk"
      },
      "execution_count": null,
      "outputs": []
    },
    {
      "cell_type": "code",
      "source": [
        "animate(pattern=\"blinker\", boundary=\"periodic\")\n",
        "#animate(pattern=\"blinker\", boundary=\"reflective\")"
      ],
      "metadata": {
        "id": "-n_EEwyl-uvW"
      },
      "execution_count": null,
      "outputs": []
    },
    {
      "cell_type": "code",
      "source": [
        "animate(pattern=\"chaos\", boundary=\"periodic\")\n",
        "#animate(pattern=\"chaos\", boundary=\"reflective\")"
      ],
      "metadata": {
        "id": "sI6idf0M_-Tl"
      },
      "execution_count": null,
      "outputs": []
    },
    {
      "cell_type": "code",
      "source": [
        "animate(pattern=\"glider_gun\", boundary=\"periodic\")\n",
        "#animate(pattern=\"\"glider_gun\", boundary=\"reflective\")"
      ],
      "metadata": {
        "id": "ehEhl9ZKAaHt"
      },
      "execution_count": null,
      "outputs": []
    }
  ]
}
